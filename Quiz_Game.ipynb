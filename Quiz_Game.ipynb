{
 "cells": [
  {
   "cell_type": "code",
   "execution_count": 1,
   "metadata": {},
   "outputs": [],
   "source": [
    "def give_options(x,y,z):#defining user defined function\n",
    "    print('a):', x)\n",
    "    print('b):', y)\n",
    "    print('c):', z)"
   ]
  },
  {
   "cell_type": "code",
   "execution_count": 2,
   "metadata": {},
   "outputs": [
    {
     "name": "stdout",
     "output_type": "stream",
     "text": [
      "Hello!! Welcome to the quiz program\n",
      "each question carries 10 marks\n",
      "Are you ready to play (yes/no):yes\n"
     ]
    }
   ],
   "source": [
    "print(\"Hello!! Welcome to the quiz program\"\"\\n\" \"each question carries 10 marks\")\n",
    "ans = input(\"Are you ready to play (yes/no):\")\n",
    "a = \"Note: Write Answers.... Do Not write options\"\n",
    "score = 0\n",
    "total_questions = 5"
   ]
  },
  {
   "cell_type": "code",
   "execution_count": 3,
   "metadata": {},
   "outputs": [],
   "source": [
    "correct_ans = [\"python\", \"steve jobs\", \"machine learning\", \"bitcoin\", \"guido van rossum\"]"
   ]
  },
  {
   "cell_type": "code",
   "execution_count": 4,
   "metadata": {},
   "outputs": [
    {
     "name": "stdout",
     "output_type": "stream",
     "text": [
      "Note: Write Answers.... Do Not write options\n",
      "Which one is the trending programming language?\n",
      "a): C\n",
      "b): Java\n",
      "c): Python\n",
      "&gt;&gt;&gt;python\n",
      "Correct\n",
      "Note: Write Answers.... Do Not write options\n",
      "Who is the founder of Apple Inc?\n",
      "a): Sridhar vembu\n",
      "b): Steve jobs\n",
      "c): Mark Zuckerberg\n",
      "&gt;&gt;&gt;steve JOBS\n",
      "Correct\n",
      "Note: Write Answers.... Do Not write options\n",
      "What is more better among these? \n",
      "a): Machine Learning\n",
      "b): Digital Marketing\n",
      "c): Data Science\n",
      "&gt;&gt;&gt;Machine learning\\\n",
      "Incorrect\n",
      "Note: Write Answers.... Do Not write options\n",
      "What is the best Investment?\n",
      "a): Share Capital\n",
      "b): Mutual Funds\n",
      "c): Bitcoin\n",
      "&gt;&gt;&gt;bitcoin\n",
      "Correct\n",
      "Note: Write Answers.... Do Not write options\n",
      "Who developed python language?\n",
      "a): Guido van Rossum\n",
      "b): Dennis Ritchie\n",
      "c): James Gosling\n",
      "&gt;&gt;&gt;Dennis ritchie\n",
      "Incorrect\n"
     ]
    }
   ],
   "source": [
    "if ans.lower() == \"yes\":\n",
    "    print(a)\n",
    "    print(\"Which one is the trending programming language?\")\n",
    "    give_options(\"C\",\"Java\",\"Python\")\n",
    "    ans = input(\"&gt;&gt;&gt;\")\n",
    "    if ans.lower() == correct_ans[0]:\n",
    "        score = score+1\n",
    "        print(\"Correct\")\n",
    "    else:\n",
    "        print(\"Incorrect\")\n",
    "    print(a)\n",
    "    print(\"Who is the founder of Apple Inc?\")\n",
    "    give_options(\"Sridhar vembu\",\"Steve jobs\",\"Mark Zuckerberg\")\n",
    "    ans = input( \"&gt;&gt;&gt;\" )\n",
    "    if ans.lower() == correct_ans[1]:\n",
    "        score = score+1\n",
    "        print(\"Correct\")\n",
    "    else:\n",
    "        print(\"Incorrect\")\n",
    "    print(a)\n",
    "    print(\"What is more better among these? \")\n",
    "    give_options(\"Machine Learning\",\"Digital Marketing\",\"Data Science\")\n",
    "    ans = input( \"&gt;&gt;&gt;\" )\n",
    "    if ans.lower() == correct_ans[2]:\n",
    "        score = score+1\n",
    "        print(\"Correct\")\n",
    "    else:\n",
    "        print(\"Incorrect\")\n",
    "    print(a)\n",
    "    print(\"What is the best Investment?\")\n",
    "    give_options(\"Share Capital\", \"Mutual Funds\", \"Bitcoin\")\n",
    "    ans = input( \"&gt;&gt;&gt;\" )\n",
    "    if ans.lower() == correct_ans[3]:\n",
    "        score = score+1\n",
    "        print(\"Correct\")\n",
    "    else:\n",
    "        print(\"Incorrect\")\n",
    "    print(a)\n",
    "    print(\"Who developed python language?\")\n",
    "    give_options(\"Guido van Rossum\", \"Dennis Ritchie\", \"James Gosling\")\n",
    "    ans = input( \"&gt;&gt;&gt;\" )\n",
    "    if ans.lower() == correct_ans[4]:\n",
    "        score = score+1\n",
    "        print(\"Correct\")\n",
    "    else:\n",
    "        print(\"Incorrect\")"
   ]
  },
  {
   "cell_type": "code",
   "execution_count": 6,
   "metadata": {},
   "outputs": [
    {
     "name": "stdout",
     "output_type": "stream",
     "text": [
      "wow! you scored  30 / 50 you are quiet smart.\n"
     ]
    }
   ],
   "source": [
    "i = score*10\n",
    "if i<30:\n",
    "    print(\"oops, your score is \",i,\"/ 50 better luck next time.\")\n",
    "elif i ==30:\n",
    "    print(\"wow! you scored \",i,\"/ 50 you are quiet smart.\")\n",
    "else:\n",
    "    print(\"Congratulations! it's a perfect \",i,\"/ 50 you are Intelligent.\")"
   ]
  },
  {
   "cell_type": "code",
   "execution_count": null,
   "metadata": {},
   "outputs": [],
   "source": []
  }
 ],
 "metadata": {
  "kernelspec": {
   "display_name": "Python 3",
   "language": "python",
   "name": "python3"
  },
  "language_info": {
   "codemirror_mode": {
    "name": "ipython",
    "version": 3
   },
   "file_extension": ".py",
   "mimetype": "text/x-python",
   "name": "python",
   "nbconvert_exporter": "python",
   "pygments_lexer": "ipython3",
   "version": "3.8.5"
  }
 },
 "nbformat": 4,
 "nbformat_minor": 4
}
